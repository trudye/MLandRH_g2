{
  "cells": [
    {
      "cell_type": "code",
      "execution_count": null,
      "metadata": {
        "id": "8MEb5j0eDWtY"
      },
      "outputs": [],
      "source": [
        "#!pip install ipython numpy matplotlib"
      ]
    },
    {
      "cell_type": "code",
      "execution_count": 25,
      "metadata": {
        "id": "2edtnNrADuIi"
      },
      "outputs": [],
      "source": [
        "import pandas as pd\n",
        "import numpy  as np\n",
        "import matplotlib\n",
        "from sklearn.neural_network import MLPClassifier\n",
        "from sklearn.model_selection import GridSearchCV\n",
        "from sklearn import preprocessing"
      ]
    },
    {
      "cell_type": "code",
      "execution_count": 28,
      "metadata": {
        "id": "CXFxEwjKeSN5"
      },
      "outputs": [],
      "source": [
        "X_train = pd.read_csv(\"sample_data/X_train.csv\")\n",
        "X_test = pd.read_csv(\"sample_data/X_test.csv\")\n",
        "y_train = pd.read_csv(\"sample_data/y_train.csv\")\n",
        "y_test = pd.read_csv(\"sample_data/y_test.csv\")\n"
      ]
    },
    {
      "cell_type": "code",
      "source": [
        "y_train = y_train.iloc[:,1].fillna(0)\n",
        "y_test = y_test.iloc[:,1].fillna(0)"
      ],
      "metadata": {
        "id": "s-AcyPLkli0Q"
      },
      "execution_count": 36,
      "outputs": []
    },
    {
      "cell_type": "code",
      "execution_count": 29,
      "metadata": {
        "id": "cuzezzropln3"
      },
      "outputs": [],
      "source": [
        "label_encoder = preprocessing.LabelEncoder()\n",
        "X_train['specialty']= label_encoder.fit_transform(X_train['specialty'])\n",
        "\n",
        "X_test['specialty']= label_encoder.fit_transform(X_test['specialty'])\n"
      ]
    },
    {
      "cell_type": "code",
      "source": [
        "\n",
        "#X_train['specialty'].unique()\n",
        "\n",
        "#X_train[pd.isna(X_train)==TRUE]\n",
        "X_train['baseline_sepsis'] = X_train['baseline_sepsis'].fillna(0)\n",
        "X_test['baseline_sepsis'] = X_test['baseline_sepsis'].fillna(0)\n",
        "\n"
      ],
      "metadata": {
        "id": "g4oXDyudrPO2"
      },
      "execution_count": 58,
      "outputs": []
    },
    {
      "cell_type": "code",
      "execution_count": 34,
      "metadata": {
        "colab": {
          "base_uri": "https://localhost:8080/"
        },
        "id": "Pe5tGO72EfWj",
        "outputId": "a1addfd3-5292-45ad-d515-7084b560eea6"
      },
      "outputs": [
        {
          "output_type": "execute_result",
          "data": {
            "text/plain": [
              "array(['Cardiochirurgie', 'Cardiochirurgie', 'Cardiochirurgie', ...,\n",
              "       'Inwendig', 'Neurologie', 'Cardiologie'], dtype=object)"
            ]
          },
          "metadata": {},
          "execution_count": 34
        }
      ],
      "source": [
        "label_encoder.inverse_transform(X_test['specialty'])\n",
        "#X_test['specialty'].unique()"
      ]
    },
    {
      "cell_type": "code",
      "source": [
        "X_test.iloc[:, 1:].columns"
      ],
      "metadata": {
        "colab": {
          "base_uri": "https://localhost:8080/"
        },
        "id": "BqMLW6JMstlL",
        "outputId": "2bb07fa0-0da6-4714-fa52-43246470cdde"
      },
      "execution_count": 61,
      "outputs": [
        {
          "output_type": "execute_result",
          "data": {
            "text/plain": [
              "Index(['urgency', 'specialty', 'baseline_ABP', 'baseline_sepsis',\n",
              "       'sepsis_inIC', 'gender_Man', 'gender_Vrouw', 'heightgroup_159-',\n",
              "       'heightgroup_160-169', 'heightgroup_170-179', 'heightgroup_180-189',\n",
              "       'heightgroup_190+', 'weightgroup_100-109', 'weightgroup_110+',\n",
              "       'weightgroup_59-', 'weightgroup_60-69', 'weightgroup_70-79',\n",
              "       'weightgroup_80-89', 'weightgroup_90-99', 'agegroup_18-39',\n",
              "       'agegroup_40-49', 'agegroup_50-59', 'agegroup_60-69', 'agegroup_70-79',\n",
              "       'agegroup_80+'],\n",
              "      dtype='object')"
            ]
          },
          "metadata": {},
          "execution_count": 61
        }
      ]
    },
    {
      "cell_type": "markdown",
      "metadata": {
        "id": "3n7aKb1UsIkG"
      },
      "source": [
        "Parameter turning"
      ]
    },
    {
      "cell_type": "code",
      "execution_count": null,
      "metadata": {
        "id": "3DqwLRy5sH-q"
      },
      "outputs": [],
      "source": [
        "mlp = MLPClassifier(max_iter=100, random_state=1)\n",
        "\n",
        "parameter_space = {\n",
        "    'hidden_layer_sizes': [(50,50,50), (50,100,50), (100,50,100)], #change?\n",
        "    'activation': ['tanh', 'relu'],\n",
        "    'solver': ['sgd', 'adam', 'lbfgs'],\n",
        "    'alpha': [0.0001,0.05],# 0.001, 0.01, 0.05], #changed\n",
        "    #'batch_size': [200, 500]\n",
        "    'learning_rate': ['constant','adaptive'],\n",
        "} #batch size?\n",
        "\n",
        "clf = GridSearchCV(mlp, parameter_space, n_jobs=-1, cv=3)\n",
        "clf.fit(X_train.iloc[:, 1:], y_train)"
      ]
    },
    {
      "cell_type": "markdown",
      "metadata": {
        "id": "0THX5VpRzzjQ"
      },
      "source": []
    },
    {
      "cell_type": "code",
      "execution_count": null,
      "metadata": {
        "id": "bCmURBFNEJn0"
      },
      "outputs": [],
      "source": [
        "##clf = MLPClassifier(solver='lbfgs', alpha=1e-5,hidden_layer_sizes=(5, 2), random_state=1)\n",
        "\n",
        "#clf.fit(X_train.iloc[:, 1:], y_train)"
      ]
    },
    {
      "cell_type": "code",
      "execution_count": null,
      "metadata": {
        "id": "qu5IQAnzrjkB"
      },
      "outputs": [],
      "source": [
        "clf.predict_proba(X_test.iloc[:, 1:])"
      ]
    },
    {
      "cell_type": "code",
      "execution_count": null,
      "metadata": {
        "id": "OX9VZb0_UEmJ"
      },
      "outputs": [],
      "source": [
        "#clf.predict(X_test)\n",
        "#clf.score(X_test, y_test)"
      ]
    },
    {
      "cell_type": "code",
      "execution_count": null,
      "metadata": {
        "id": "XzaH0hNbvHCl"
      },
      "outputs": [],
      "source": [
        "clf.best_params_"
      ]
    },
    {
      "cell_type": "code",
      "execution_count": null,
      "metadata": {
        "id": "SPxVWunUr0Wq"
      },
      "outputs": [],
      "source": [
        "from sklearn.metrics import roc_auc_score\n",
        "roc_auc_score(y_test, clf.predict_proba(X_test.iloc[:, 1:]), multi_class='ovr')"
      ]
    },
    {
      "cell_type": "code",
      "execution_count": null,
      "metadata": {
        "id": "eMzXGzrTkG9c"
      },
      "outputs": [],
      "source": [
        "clf.cv_results_\n"
      ]
    }
  ],
  "metadata": {
    "colab": {
      "provenance": []
    },
    "kernelspec": {
      "display_name": "Python 3",
      "name": "python3"
    },
    "language_info": {
      "name": "python"
    }
  },
  "nbformat": 4,
  "nbformat_minor": 0
}